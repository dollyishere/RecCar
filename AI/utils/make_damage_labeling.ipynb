{
 "cells": [
  {
   "cell_type": "markdown",
   "id": "5be8dc62",
   "metadata": {},
   "source": [
    "## Json기반으로 damage labeling.csv 생성"
   ]
  },
  {
   "cell_type": "code",
   "execution_count": 1,
   "id": "5330bb02",
   "metadata": {},
   "outputs": [],
   "source": [
    "import os\n",
    "import json\n",
    "from glob import glob\n",
    "from tqdm import tqdm\n",
    "import pandas as pd"
   ]
  },
  {
   "cell_type": "code",
   "execution_count": 2,
   "id": "6dba8b54",
   "metadata": {},
   "outputs": [
    {
     "data": {
      "text/plain": [
       "'C:\\\\Users\\\\SSAFY\\\\Desktop\\\\쏘카\\\\160. 차량파손 이미지 데이터\\\\01.데이터'"
      ]
     },
     "execution_count": 2,
     "metadata": {},
     "output_type": "execute_result"
    }
   ],
   "source": [
    "os.getcwd()"
   ]
  },
  {
   "cell_type": "markdown",
   "id": "6a99dbc9",
   "metadata": {},
   "source": [
    "### 데이터 폴더의 최상단기준에서 실행\n"
   ]
  },
  {
   "cell_type": "code",
   "execution_count": 90,
   "id": "4d93ac9d",
   "metadata": {},
   "outputs": [],
   "source": [
    "damage_images = glob('./2.Validation/2.라벨링데이터/damage/*.json')\n",
    "damage_part_images = glob('./2.Validation/2.라벨링데이터/damage_part/*.json')"
   ]
  },
  {
   "cell_type": "code",
   "execution_count": 91,
   "id": "4ae1156d",
   "metadata": {},
   "outputs": [],
   "source": [
    "damage_df = pd.DataFrame(columns=(\"index\", \"Scratched\", \"Breakage\", \"Separated\", \"Crushed\", \"total_anns\", \"ran_var\", \"dataset\"))"
   ]
  },
  {
   "cell_type": "code",
   "execution_count": 92,
   "id": "728cf58f",
   "metadata": {},
   "outputs": [],
   "source": [
    "def cls_damage(data):\n",
    "    file_name = data['images']['file_name']\n",
    "    damage_dict = {\"index\": file_name, \"Scratched\" : 0, \"Breakage\" : 0, \"Separated\" : 0, \"Crushed\" : 0, \"total_anns\" : 0,\"dataset\" : \"\"}\n",
    "    _sum = 0\n",
    "    for i in range(len(data['annotations'])):\n",
    "        damage_type = data['annotations'][i]['damage']\n",
    "        damage_dict[damage_type] += 1\n",
    "        _sum += 1\n",
    "    damage_dict[\"total_anns\"] = _sum\n",
    "    return damage_dict"
   ]
  },
  {
   "cell_type": "code",
   "execution_count": 93,
   "id": "2c3579fb",
   "metadata": {
    "scrolled": true
   },
   "outputs": [
    {
     "name": "stderr",
     "output_type": "stream",
     "text": [
      "100%|███████████████████████████████████████████████████████████████████████████| 10404/10404 [00:20<00:00, 498.02it/s]\n"
     ]
    }
   ],
   "source": [
    "for i in tqdm(range(len(damage_images))):\n",
    "    img = damage_images[i][2:]\n",
    "    \n",
    "    with open(f'./{img}', 'r') as f:\n",
    "        data = json.load(f)\n",
    "    damage_dict = cls_damage(data)\n",
    "    \n",
    "    if(1 <= i % 10 < 8):\n",
    "        damage_dict['dataset'] = 'train'\n",
    "    elif(i % 10 == 8 or i % 10 == 9):\n",
    "        damage_dict['dataset'] = 'val'\n",
    "    else:\n",
    "        damage_dict['dataset'] = 'test'\n",
    "    \n",
    "    damage_df.loc[i] = damage_dict\n",
    "damage_df.loc[\"총합\", :] = damage_df.sum(axis = 0, numeric_only = True)"
   ]
  },
  {
   "cell_type": "code",
   "execution_count": 96,
   "id": "562cc58f",
   "metadata": {},
   "outputs": [],
   "source": [
    "# dfframe셀 실수 -> 정수변경\n",
    "damage_df = damage_df.astype({'Scratched' : 'int', 'Breakage' : 'int', 'Separated' : 'int', 'Crushed' : 'int'})"
   ]
  },
  {
   "cell_type": "code",
   "execution_count": 99,
   "id": "aecff7ae",
   "metadata": {},
   "outputs": [
    {
     "data": {
      "text/html": [
       "<div>\n",
       "<style scoped>\n",
       "    .dataframe tbody tr th:only-of-type {\n",
       "        vertical-align: middle;\n",
       "    }\n",
       "\n",
       "    .dataframe tbody tr th {\n",
       "        vertical-align: top;\n",
       "    }\n",
       "\n",
       "    .dataframe thead th {\n",
       "        text-align: right;\n",
       "    }\n",
       "</style>\n",
       "<table border=\"1\" class=\"dataframe\">\n",
       "  <thead>\n",
       "    <tr style=\"text-align: right;\">\n",
       "      <th></th>\n",
       "      <th>index</th>\n",
       "      <th>Scratched</th>\n",
       "      <th>Breakage</th>\n",
       "      <th>Separated</th>\n",
       "      <th>Crushed</th>\n",
       "      <th>ran_var</th>\n",
       "      <th>dataset</th>\n",
       "    </tr>\n",
       "  </thead>\n",
       "  <tbody>\n",
       "    <tr>\n",
       "      <th>0</th>\n",
       "      <td>0506233_sc-202337.jpg</td>\n",
       "      <td>0</td>\n",
       "      <td>1</td>\n",
       "      <td>1</td>\n",
       "      <td>0</td>\n",
       "      <td>NaN</td>\n",
       "      <td>test</td>\n",
       "    </tr>\n",
       "    <tr>\n",
       "      <th>1</th>\n",
       "      <td>0506234_sc-202337.jpg</td>\n",
       "      <td>0</td>\n",
       "      <td>0</td>\n",
       "      <td>3</td>\n",
       "      <td>0</td>\n",
       "      <td>NaN</td>\n",
       "      <td>train</td>\n",
       "    </tr>\n",
       "    <tr>\n",
       "      <th>2</th>\n",
       "      <td>0506235_sc-202337.jpg</td>\n",
       "      <td>1</td>\n",
       "      <td>0</td>\n",
       "      <td>2</td>\n",
       "      <td>0</td>\n",
       "      <td>NaN</td>\n",
       "      <td>train</td>\n",
       "    </tr>\n",
       "    <tr>\n",
       "      <th>3</th>\n",
       "      <td>0506236_sc-202337.jpg</td>\n",
       "      <td>1</td>\n",
       "      <td>0</td>\n",
       "      <td>1</td>\n",
       "      <td>0</td>\n",
       "      <td>NaN</td>\n",
       "      <td>train</td>\n",
       "    </tr>\n",
       "    <tr>\n",
       "      <th>4</th>\n",
       "      <td>0506237_sc-202337.jpg</td>\n",
       "      <td>2</td>\n",
       "      <td>0</td>\n",
       "      <td>1</td>\n",
       "      <td>0</td>\n",
       "      <td>NaN</td>\n",
       "      <td>train</td>\n",
       "    </tr>\n",
       "    <tr>\n",
       "      <th>5</th>\n",
       "      <td>0506238_as-3203576.jpg</td>\n",
       "      <td>2</td>\n",
       "      <td>0</td>\n",
       "      <td>0</td>\n",
       "      <td>0</td>\n",
       "      <td>NaN</td>\n",
       "      <td>train</td>\n",
       "    </tr>\n",
       "    <tr>\n",
       "      <th>6</th>\n",
       "      <td>0506239_as-3483186.jpg</td>\n",
       "      <td>0</td>\n",
       "      <td>0</td>\n",
       "      <td>1</td>\n",
       "      <td>0</td>\n",
       "      <td>NaN</td>\n",
       "      <td>train</td>\n",
       "    </tr>\n",
       "    <tr>\n",
       "      <th>7</th>\n",
       "      <td>0506240_as-7962812.jpg</td>\n",
       "      <td>1</td>\n",
       "      <td>1</td>\n",
       "      <td>1</td>\n",
       "      <td>1</td>\n",
       "      <td>NaN</td>\n",
       "      <td>train</td>\n",
       "    </tr>\n",
       "    <tr>\n",
       "      <th>8</th>\n",
       "      <td>0506241_sc-190131.jpg</td>\n",
       "      <td>2</td>\n",
       "      <td>0</td>\n",
       "      <td>1</td>\n",
       "      <td>0</td>\n",
       "      <td>NaN</td>\n",
       "      <td>val</td>\n",
       "    </tr>\n",
       "    <tr>\n",
       "      <th>9</th>\n",
       "      <td>0506245_sc-198049.jpg</td>\n",
       "      <td>1</td>\n",
       "      <td>0</td>\n",
       "      <td>0</td>\n",
       "      <td>1</td>\n",
       "      <td>NaN</td>\n",
       "      <td>val</td>\n",
       "    </tr>\n",
       "  </tbody>\n",
       "</table>\n",
       "</div>"
      ],
      "text/plain": [
       "                    index  Scratched  Breakage  Separated  Crushed  ran_var  \\\n",
       "0   0506233_sc-202337.jpg          0         1          1        0      NaN   \n",
       "1   0506234_sc-202337.jpg          0         0          3        0      NaN   \n",
       "2   0506235_sc-202337.jpg          1         0          2        0      NaN   \n",
       "3   0506236_sc-202337.jpg          1         0          1        0      NaN   \n",
       "4   0506237_sc-202337.jpg          2         0          1        0      NaN   \n",
       "5  0506238_as-3203576.jpg          2         0          0        0      NaN   \n",
       "6  0506239_as-3483186.jpg          0         0          1        0      NaN   \n",
       "7  0506240_as-7962812.jpg          1         1          1        1      NaN   \n",
       "8   0506241_sc-190131.jpg          2         0          1        0      NaN   \n",
       "9   0506245_sc-198049.jpg          1         0          0        1      NaN   \n",
       "\n",
       "  dataset  \n",
       "0    test  \n",
       "1   train  \n",
       "2   train  \n",
       "3   train  \n",
       "4   train  \n",
       "5   train  \n",
       "6   train  \n",
       "7   train  \n",
       "8     val  \n",
       "9     val  "
      ]
     },
     "execution_count": 99,
     "metadata": {},
     "output_type": "execute_result"
    }
   ],
   "source": [
    "damage_df.head(10)"
   ]
  },
  {
   "cell_type": "code",
   "execution_count": 100,
   "id": "f6de5932",
   "metadata": {},
   "outputs": [],
   "source": [
    "damage_df.to_csv('./damage_labeling.csv', header=True, index=False)"
   ]
  },
  {
   "cell_type": "markdown",
   "id": "4e70a3ef",
   "metadata": {},
   "source": [
    "### images\n",
    "id  \n",
    "width  \n",
    "height  \n",
    "filme_name"
   ]
  },
  {
   "cell_type": "markdown",
   "id": "f591ff9e",
   "metadata": {},
   "source": [
    "## annotations\n",
    "\n",
    "id : 라벨링 식별자  \n",
    "category_id : 사고아이디  \n",
    "damage : 손상종류  \n",
    "part : 차량부위  \n",
    "level : 손상심각도(경미 손상, 소규모 손상, 대규모 손상, 교체수준)  \n",
    "repair : 수리 방법"
   ]
  },
  {
   "cell_type": "markdown",
   "id": "b4b58b26",
   "metadata": {},
   "source": [
    "## categories \n",
    "id : 사고아이디  \n",
    "supercategory_name : 차량크기"
   ]
  }
 ],
 "metadata": {
  "kernelspec": {
   "display_name": "Python 3 (ipykernel)",
   "language": "python",
   "name": "python3"
  },
  "language_info": {
   "codemirror_mode": {
    "name": "ipython",
    "version": 3
   },
   "file_extension": ".py",
   "mimetype": "text/x-python",
   "name": "python",
   "nbconvert_exporter": "python",
   "pygments_lexer": "ipython3",
   "version": "3.8.5"
  }
 },
 "nbformat": 4,
 "nbformat_minor": 5
}
